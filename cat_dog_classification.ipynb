{
  "nbformat": 4,
  "nbformat_minor": 0,
  "metadata": {
    "colab": {
      "provenance": [],
      "authorship_tag": "ABX9TyOOPFW8kMw+GBox6c7OC49z",
      "include_colab_link": true
    },
    "kernelspec": {
      "name": "python3",
      "display_name": "Python 3"
    },
    "language_info": {
      "name": "python"
    }
  },
  "cells": [
    {
      "cell_type": "markdown",
      "metadata": {
        "id": "view-in-github",
        "colab_type": "text"
      },
      "source": [
        "<a href=\"https://colab.research.google.com/github/elliwadler/image_classification/blob/main/cat_dog_classification.ipynb\" target=\"_parent\"><img src=\"https://colab.research.google.com/assets/colab-badge.svg\" alt=\"Open In Colab\"/></a>"
      ]
    },
    {
      "cell_type": "code",
      "execution_count": 29,
      "metadata": {
        "id": "Q1fXlMeMW1YO",
        "outputId": "dd736aec-e134-4849-f0df-f782c0a89736",
        "colab": {
          "base_uri": "https://localhost:8080/"
        }
      },
      "outputs": [
        {
          "output_type": "execute_result",
          "data": {
            "text/plain": [
              "('cats_dogs_classifier.h5', <http.client.HTTPMessage at 0x7fdcf8090a60>)"
            ]
          },
          "metadata": {},
          "execution_count": 29
        }
      ],
      "source": [
        "import urllib.request\n",
        "import zipfile\n",
        "\n",
        "# Download the dataset zip file\n",
        "url = \"https://storage.googleapis.com/mledu-datasets/cats_and_dogs_filtered.zip\"\n",
        "filename = \"cats_and_dogs_filtered.zip\"\n",
        "urllib.request.urlretrieve(url, filename)\n",
        "\n",
        "# Extract the zip file\n",
        "with zipfile.ZipFile(filename, 'r') as zip_ref:\n",
        "    zip_ref.extractall()\n",
        "\n",
        "url = \"https://drive.google.com/file/d/1HZZ9Kw4s8dZA9jN_J0En3p0a41pW2kEX/view?usp=sharing\"\n",
        "filename = \"cats_dogs_classifier.h5\"\n",
        "urllib.request.urlretrieve(url, filename)\n"
      ]
    },
    {
      "cell_type": "code",
      "source": [
        "import os\n",
        "import tensorflow as tf\n",
        "from keras.models import Sequential\n",
        "from keras.optimizers import Adam\n",
        "from keras.layers import Conv2D, MaxPooling2D, Flatten, Dense, Dropout\n",
        "from keras.callbacks import EarlyStopping\n"
      ],
      "metadata": {
        "id": "fd7hDq8KXUed"
      },
      "execution_count": 19,
      "outputs": []
    },
    {
      "cell_type": "code",
      "source": [
        "train_dir = 'cats_and_dogs_filtered/train'\n",
        "validation_dir = 'cats_and_dogs_filtered/validation'\n",
        "\n",
        "# TensorFlow - Klasse: erstellen einer Pipeline für das Lesen von Bildern aus Verzeichnis, Bilder in Echtzeit währen des Trainings verändern (Drehung, Zuschneiden, Spiegeln, ...)\n",
        "# Erleichtert das Training von Deep-Learning-Modellen mit Bildern, da sie eine effiziente Möglichkeit bietet, eine große Anzahl von Bildern automatisch zu verarbeiten und zu augmentieren.\n",
        "train_datagen = tf.keras.preprocessing.image.ImageDataGenerator(rescale=1./255)\n",
        "validation_datagen = tf.keras.preprocessing.image.ImageDataGenerator(rescale=1./255)\n"
      ],
      "metadata": {
        "id": "gtSQBahSXYrh"
      },
      "execution_count": 4,
      "outputs": []
    },
    {
      "cell_type": "code",
      "source": [
        "train_generator = train_datagen.flow_from_directory(\n",
        "        train_dir,\n",
        "        target_size=(150, 150),\n",
        "        batch_size=20,\n",
        "        class_mode='binary')\n",
        "\n",
        "validation_generator = validation_datagen.flow_from_directory(\n",
        "        validation_dir,\n",
        "        target_size=(150, 150),\n",
        "        batch_size=20,\n",
        "        class_mode='binary')\n"
      ],
      "metadata": {
        "colab": {
          "base_uri": "https://localhost:8080/"
        },
        "id": "-4Pp1JypXbJ7",
        "outputId": "c4cc483a-a5f0-4540-9e6f-1c6f92c5885e"
      },
      "execution_count": 5,
      "outputs": [
        {
          "output_type": "stream",
          "name": "stdout",
          "text": [
            "Found 2000 images belonging to 2 classes.\n",
            "Found 1000 images belonging to 2 classes.\n"
          ]
        }
      ]
    },
    {
      "cell_type": "code",
      "source": [
        "model = Sequential([\n",
        "    Conv2D(32, (3,3), activation='relu', input_shape=(150,150,3)),\n",
        "    MaxPooling2D(2,2),\n",
        "    Conv2D(64, (3,3), activation='relu'),\n",
        "    MaxPooling2D(2,2),\n",
        "    Dropout(0.2),\n",
        "    Conv2D(128, (3,3), activation='relu'),\n",
        "    MaxPooling2D(2,2),\n",
        "    Dropout(0.2),\n",
        "    Conv2D(128, (3,3), activation='relu'),\n",
        "    MaxPooling2D(2,2),\n",
        "    Dropout(0.2),\n",
        "    Flatten(),\n",
        "    Dense(512, activation='relu'),\n",
        "    Dense(1, activation='sigmoid')\n",
        "])"
      ],
      "metadata": {
        "id": "oTveRchwXfxA"
      },
      "execution_count": 20,
      "outputs": []
    },
    {
      "cell_type": "code",
      "source": [
        "model.compile(loss='binary_crossentropy',\n",
        "              optimizer=tf.optimizers.Adam(learning_rate=0.001, beta_1=0.9, beta_2=0.999, epsilon=1e-08),\n",
        "              metrics=['accuracy'])"
      ],
      "metadata": {
        "id": "PNL6_-OrXguw"
      },
      "execution_count": 21,
      "outputs": []
    },
    {
      "cell_type": "code",
      "source": [
        "early_stop = EarlyStopping(monitor='val_loss', patience=5)\n"
      ],
      "metadata": {
        "id": "P6P_54exSJJN"
      },
      "execution_count": 22,
      "outputs": []
    },
    {
      "cell_type": "code",
      "source": [
        "history = model.fit(\n",
        "      train_generator,\n",
        "      steps_per_epoch=100,\n",
        "      epochs = 100,\n",
        "      callbacks=[early_stop],\n",
        "      validation_data=validation_generator,\n",
        "      validation_steps=50)\n"
      ],
      "metadata": {
        "colab": {
          "base_uri": "https://localhost:8080/"
        },
        "id": "K-Y4cVxuXujX",
        "outputId": "79f7b5c9-5d22-4d03-ff79-6b67b40c700c"
      },
      "execution_count": 23,
      "outputs": [
        {
          "output_type": "stream",
          "name": "stdout",
          "text": [
            "Epoch 1/100\n",
            "100/100 [==============================] - 133s 1s/step - loss: 0.7035 - accuracy: 0.5035 - val_loss: 0.6930 - val_accuracy: 0.5000\n",
            "Epoch 2/100\n",
            "100/100 [==============================] - 135s 1s/step - loss: 0.6943 - accuracy: 0.5100 - val_loss: 0.6899 - val_accuracy: 0.5640\n",
            "Epoch 3/100\n",
            "100/100 [==============================] - 134s 1s/step - loss: 0.6707 - accuracy: 0.5825 - val_loss: 0.6675 - val_accuracy: 0.5590\n",
            "Epoch 4/100\n",
            "100/100 [==============================] - 134s 1s/step - loss: 0.6434 - accuracy: 0.6260 - val_loss: 0.6159 - val_accuracy: 0.6590\n",
            "Epoch 5/100\n",
            "100/100 [==============================] - 131s 1s/step - loss: 0.6246 - accuracy: 0.6445 - val_loss: 0.6485 - val_accuracy: 0.6310\n",
            "Epoch 6/100\n",
            "100/100 [==============================] - 136s 1s/step - loss: 0.6031 - accuracy: 0.6670 - val_loss: 0.6124 - val_accuracy: 0.6540\n",
            "Epoch 7/100\n",
            "100/100 [==============================] - 137s 1s/step - loss: 0.5631 - accuracy: 0.7045 - val_loss: 0.6035 - val_accuracy: 0.6740\n",
            "Epoch 8/100\n",
            "100/100 [==============================] - 134s 1s/step - loss: 0.5298 - accuracy: 0.7385 - val_loss: 0.5998 - val_accuracy: 0.6890\n",
            "Epoch 9/100\n",
            "100/100 [==============================] - 137s 1s/step - loss: 0.5138 - accuracy: 0.7520 - val_loss: 0.5925 - val_accuracy: 0.6880\n",
            "Epoch 10/100\n",
            "100/100 [==============================] - 136s 1s/step - loss: 0.4362 - accuracy: 0.7930 - val_loss: 0.5992 - val_accuracy: 0.6910\n",
            "Epoch 11/100\n",
            "100/100 [==============================] - 146s 1s/step - loss: 0.3925 - accuracy: 0.8140 - val_loss: 0.6037 - val_accuracy: 0.6810\n",
            "Epoch 12/100\n",
            "100/100 [==============================] - 141s 1s/step - loss: 0.3147 - accuracy: 0.8625 - val_loss: 0.6792 - val_accuracy: 0.7040\n",
            "Epoch 13/100\n",
            "100/100 [==============================] - 136s 1s/step - loss: 0.2760 - accuracy: 0.8820 - val_loss: 0.7063 - val_accuracy: 0.7110\n",
            "Epoch 14/100\n",
            "100/100 [==============================] - 130s 1s/step - loss: 0.2427 - accuracy: 0.8965 - val_loss: 0.7037 - val_accuracy: 0.7050\n"
          ]
        }
      ]
    },
    {
      "cell_type": "code",
      "source": [
        "import numpy as np\n",
        "from keras.preprocessing.image import ImageDataGenerator\n",
        "from keras.models import load_model\n",
        "from sklearn.metrics import confusion_matrix, ConfusionMatrixDisplay\n",
        "\n",
        "# Load the saved model\n",
        "model = load_model('cats_dogs_classifier.h5')\n",
        "\n",
        "# Define the test data generator\n",
        "test_datagen = ImageDataGenerator(rescale=1./255)\n",
        "\n",
        "# Create a DirectoryIterator for the test data\n",
        "test_dir = 'cats_and_dogs_filtered/validation'\n",
        "test_generator = test_datagen.flow_from_directory(\n",
        "        test_dir,\n",
        "        target_size=(150, 150),\n",
        "        batch_size=20,\n",
        "        class_mode='binary')\n",
        "\n",
        "# Get the predicted classes for the test data\n",
        "y_pred_prob = model.predict(test_generator)\n",
        "y_pred = np.round(y_pred_prob)\n",
        "\n",
        "# Get the true classes for the test data\n",
        "y_true = test_generator.classes\n",
        "\n",
        "# Create the confusion matrix\n",
        "cm = confusion_matrix(y_true, y_pred)\n",
        "\n",
        "# Print the confusion matrix\n",
        "cm_display = ConfusionMatrixDisplay(cm).plot()"
      ],
      "metadata": {
        "colab": {
          "base_uri": "https://localhost:8080/",
          "height": 486
        },
        "id": "d_yqDrsViwQq",
        "outputId": "a9eadff1-e4fe-4784-e1be-fac76269f6aa"
      },
      "execution_count": 61,
      "outputs": [
        {
          "output_type": "stream",
          "name": "stdout",
          "text": [
            "Found 1000 images belonging to 2 classes.\n",
            "50/50 [==============================] - 16s 326ms/step\n"
          ]
        },
        {
          "output_type": "display_data",
          "data": {
            "text/plain": [
              "<Figure size 640x480 with 2 Axes>"
            ],
            "image/png": "[encoded data removed]"
          },
          "metadata": {}
        }
      ]
    },
    {
      "cell_type": "code",
      "source": [
        "import pandas as pd\n",
        "\n",
        "history_df = pd.DataFrame(model.history.history)\n",
        "history_df.to_csv('train_history.csv', index=False)\n",
        "model.save('cats_dogs_classifier.h5')"
      ],
      "metadata": {
        "id": "3U7vm1aSgPls"
      },
      "execution_count": 44,
      "outputs": []
    },
    {
      "cell_type": "code",
      "source": [
        "import numpy as np\n",
        "import tensorflow as tf\n",
        "from tensorflow.keras.preprocessing import image\n",
        "from keras.models import load_model\n",
        "\n",
        "\n",
        "# Load the saved model\n",
        "model = tf.keras.models.load_model('cats_dogs_classifier.h5')\n",
        "\n",
        "# Load the image and resize to the target size\n",
        "img_path = '/content/cats_and_dogs_filtered/validation/cats/cat.2003.jpg'\n",
        "img = image.load_img(img_path, target_size=(150, 150))\n",
        "\n",
        "# Convert the image to a numpy array and normalize\n",
        "img_array = image.img_to_array(img)\n",
        "img_array /= 255.\n",
        "\n",
        "# Expand the dimensions of the image array to match the model input shape\n",
        "img_array = np.expand_dims(img_array, axis=0)\n",
        "\n",
        "# Predict the class of the image\n",
        "pred = model.predict(img_array)\n",
        "pred_probability = pred[0][0]\n",
        "\n",
        "if pred[0][0] > 0.5:\n",
        "    print(\"The image is a dog with a probability of {:.2f}%\".format(pred_probability * 100))\n",
        "else:\n",
        "    print(\"The image is a cat with a probability of {:.2f}%\".format(pred_probability * 100))"
      ],
      "metadata": {
        "colab": {
          "base_uri": "https://localhost:8080/"
        },
        "id": "8SZujwhbgWF9",
        "outputId": "1e623617-7431-438d-f78b-2ce464af029d"
      },
      "execution_count": 55,
      "outputs": [
        {
          "output_type": "stream",
          "name": "stdout",
          "text": [
            "1/1 [==============================] - 0s 109ms/step\n",
            "The image is a cat with a probability of 0.00%\n"
          ]
        }
      ]
    }
  ]
}